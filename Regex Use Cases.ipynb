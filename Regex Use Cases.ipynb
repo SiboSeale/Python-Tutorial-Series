{
 "cells": [
  {
   "cell_type": "code",
   "execution_count": 6,
   "id": "d7b5ea2d-7b83-43e4-81dc-976b21bae7cf",
   "metadata": {},
   "outputs": [],
   "source": [
    "import re\n",
    "\n",
    "random_text = '''\n",
    "My name is Mr. Neo. My phone number is 123-456-7890. My email is ChosenOne@gmail.com\n",
    "My name is Mr. Morphius. My phone number is 413-234-2568. My email is CoolGuy@yahoo.com. \n",
    "My name is Mrs. Trinity. My phone number is 285-036-8215. My email is ChosenOnesGirl1@apple.com.\n",
    "'''"
   ]
  },
  {
   "cell_type": "code",
   "execution_count": 8,
   "id": "9ee1a4df-0e23-4f4b-86a7-a36dc34fbde3",
   "metadata": {},
   "outputs": [
    {
     "data": {
      "text/plain": [
       "['@gmail', '@yahoo', '@apple']"
      ]
     },
     "execution_count": 8,
     "metadata": {},
     "output_type": "execute_result"
    }
   ],
   "source": [
    "re.findall('@[a-z]+',random_text)"
   ]
  },
  {
   "cell_type": "code",
   "execution_count": 10,
   "id": "33d3ef43-a215-47b5-96b2-d88bffba1f59",
   "metadata": {},
   "outputs": [
    {
     "data": {
      "text/plain": [
       "['gmail', 'yahoo', 'apple']"
      ]
     },
     "execution_count": 10,
     "metadata": {},
     "output_type": "execute_result"
    }
   ],
   "source": [
    "re.findall('@([a-z]+)',random_text)"
   ]
  },
  {
   "cell_type": "code",
   "execution_count": 12,
   "id": "9d466f1d-6db8-407b-be45-3372f78f83c6",
   "metadata": {},
   "outputs": [
    {
     "data": {
      "text/plain": [
       "['@gmail.com', '@yahoo.com.', '@apple.com.']"
      ]
     },
     "execution_count": 12,
     "metadata": {},
     "output_type": "execute_result"
    }
   ],
   "source": [
    "re.findall(r'@[\\w\\.]+',random_text)"
   ]
  },
  {
   "cell_type": "code",
   "execution_count": 16,
   "id": "f1f83de9-acc9-41f7-bcdc-85d750fe004e",
   "metadata": {},
   "outputs": [
    {
     "data": {
      "text/plain": [
       "['gmail.com', 'yahoo.com.', 'apple.com.']"
      ]
     },
     "execution_count": 16,
     "metadata": {},
     "output_type": "execute_result"
    }
   ],
   "source": [
    "re.findall(r'@([\\w\\.]+)',random_text)"
   ]
  },
  {
   "cell_type": "code",
   "execution_count": 18,
   "id": "56b581e6-1e43-4367-808b-3505491629f9",
   "metadata": {},
   "outputs": [
    {
     "data": {
      "text/plain": [
       "['ChosenOne@gmail.com', 'CoolGuy@yahoo.com.', 'ChosenOnesGirl1@apple.com.']"
      ]
     },
     "execution_count": 18,
     "metadata": {},
     "output_type": "execute_result"
    }
   ],
   "source": [
    "re.findall(r'[\\w+]+@[\\w\\.]+',random_text)"
   ]
  },
  {
   "cell_type": "code",
   "execution_count": 24,
   "id": "016d4865-8797-4868-81a6-24602fed2dd9",
   "metadata": {},
   "outputs": [
    {
     "data": {
      "text/plain": [
       "['123', '456', '789', '413', '234', '256', '285', '036', '821']"
      ]
     },
     "execution_count": 24,
     "metadata": {},
     "output_type": "execute_result"
    }
   ],
   "source": [
    "re.findall(r'\\d{3}',random_text)"
   ]
  },
  {
   "cell_type": "code",
   "execution_count": 26,
   "id": "57faf4a7-d649-4d7b-aaea-3ab20f823d6b",
   "metadata": {},
   "outputs": [
    {
     "data": {
      "text/plain": [
       "['123-456-7890', '413-234-2568', '285-036-8215']"
      ]
     },
     "execution_count": 26,
     "metadata": {},
     "output_type": "execute_result"
    }
   ],
   "source": [
    "re.findall(r'\\d{3}-\\d{3}-\\d{4}',random_text)"
   ]
  },
  {
   "cell_type": "code",
   "execution_count": 28,
   "id": "790a5896-ba14-489c-b473-677692d6b6d8",
   "metadata": {},
   "outputs": [],
   "source": [
    "my_list = ['ChosenOne@gmail.com', 'CoolGuy@yahoo.com.', 'ChosenOnesGirl1@apple.com.']"
   ]
  },
  {
   "cell_type": "code",
   "execution_count": 30,
   "id": "157b568a-0368-4759-bf83-fa8d49a39c2e",
   "metadata": {},
   "outputs": [
    {
     "name": "stdout",
     "output_type": "stream",
     "text": [
      "['gmail.com']\n",
      "['yahoo.com.']\n",
      "['apple.com.']\n"
     ]
    }
   ],
   "source": [
    "for email in my_list:\n",
    "    print(re.findall(r'@([\\w\\.]+)',email))"
   ]
  },
  {
   "cell_type": "code",
   "execution_count": null,
   "id": "09c74068-6bd0-4dfa-8a12-9a9efc21a4a4",
   "metadata": {},
   "outputs": [],
   "source": []
  },
  {
   "cell_type": "code",
   "execution_count": null,
   "id": "211c4194-0909-4804-8968-cbe9f40f1ce7",
   "metadata": {},
   "outputs": [],
   "source": []
  },
  {
   "cell_type": "code",
   "execution_count": null,
   "id": "d441b145-384f-453d-9529-7468457e6982",
   "metadata": {},
   "outputs": [],
   "source": []
  },
  {
   "cell_type": "code",
   "execution_count": null,
   "id": "7dd28d6c-3ed3-4147-9eb3-baac6fdb85e4",
   "metadata": {},
   "outputs": [],
   "source": []
  },
  {
   "cell_type": "code",
   "execution_count": null,
   "id": "5e483c53-0b1f-46e0-bd04-10ebc91b2ae1",
   "metadata": {},
   "outputs": [],
   "source": []
  },
  {
   "cell_type": "code",
   "execution_count": null,
   "id": "9f574bf5-ddbc-48b4-9d89-28f95a9759cc",
   "metadata": {},
   "outputs": [],
   "source": []
  },
  {
   "cell_type": "code",
   "execution_count": null,
   "id": "cc2baab7-e9cd-461b-b582-078754d845a0",
   "metadata": {},
   "outputs": [],
   "source": []
  },
  {
   "cell_type": "code",
   "execution_count": null,
   "id": "e1900bd3-5f6c-418f-ad1d-f5599a26f465",
   "metadata": {},
   "outputs": [],
   "source": []
  },
  {
   "cell_type": "code",
   "execution_count": null,
   "id": "932b4cc2-e2f0-4ccc-9a41-6735759664eb",
   "metadata": {},
   "outputs": [],
   "source": []
  },
  {
   "cell_type": "code",
   "execution_count": null,
   "id": "5a5f3f5d-3df2-4855-8495-8b4e2bbb92e7",
   "metadata": {},
   "outputs": [],
   "source": []
  },
  {
   "cell_type": "code",
   "execution_count": null,
   "id": "0c2c15e8-1f11-4bd3-861a-ca2636d71650",
   "metadata": {},
   "outputs": [],
   "source": []
  },
  {
   "cell_type": "code",
   "execution_count": null,
   "id": "81072c84-fcf0-4721-a079-7820bc38de13",
   "metadata": {},
   "outputs": [],
   "source": []
  },
  {
   "cell_type": "code",
   "execution_count": null,
   "id": "2c4137b0-677b-4a55-a90b-326f74f333ca",
   "metadata": {},
   "outputs": [],
   "source": []
  },
  {
   "cell_type": "code",
   "execution_count": null,
   "id": "c150d43f-4dc9-481a-b4e7-84a62fe475c9",
   "metadata": {},
   "outputs": [],
   "source": []
  },
  {
   "cell_type": "code",
   "execution_count": null,
   "id": "be8e8bd4-c889-4b03-9be5-3d5e6b310c34",
   "metadata": {},
   "outputs": [],
   "source": []
  },
  {
   "cell_type": "code",
   "execution_count": null,
   "id": "185a88e4-70a3-4af3-8c4e-7c950ff5b90f",
   "metadata": {},
   "outputs": [],
   "source": []
  }
 ],
 "metadata": {
  "kernelspec": {
   "display_name": "Python 3 (ipykernel)",
   "language": "python",
   "name": "python3"
  },
  "language_info": {
   "codemirror_mode": {
    "name": "ipython",
    "version": 3
   },
   "file_extension": ".py",
   "mimetype": "text/x-python",
   "name": "python",
   "nbconvert_exporter": "python",
   "pygments_lexer": "ipython3",
   "version": "3.12.4"
  }
 },
 "nbformat": 4,
 "nbformat_minor": 5
}
