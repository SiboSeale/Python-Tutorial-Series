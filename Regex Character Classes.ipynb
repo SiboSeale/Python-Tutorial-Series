{
 "cells": [
  {
   "cell_type": "code",
   "execution_count": 1,
   "id": "55d98625-4a46-4c3a-8077-5cbe9b57f5fb",
   "metadata": {},
   "outputs": [],
   "source": [
    "import re"
   ]
  },
  {
   "cell_type": "code",
   "execution_count": 3,
   "id": "f5fd7c88-2070-49d0-8e63-c570b1ddc3bd",
   "metadata": {},
   "outputs": [],
   "source": [
    "quote = 'My name is Neo. My phone number is 534-342-1234. My email is TheMatrixMan@gmail.com'"
   ]
  },
  {
   "cell_type": "code",
   "execution_count": 7,
   "id": "5ec452c9-d951-4c6c-abb7-f21ed84eca59",
   "metadata": {},
   "outputs": [
    {
     "data": {
      "text/plain": [
       "['5', '3', '4', '3', '4', '2', '1', '2', '3', '4']"
      ]
     },
     "execution_count": 7,
     "metadata": {},
     "output_type": "execute_result"
    }
   ],
   "source": [
    "re.findall(r'\\d',quote)"
   ]
  },
  {
   "cell_type": "code",
   "execution_count": 9,
   "id": "66ddf8b1-3459-4787-9973-a53ddd0e28bc",
   "metadata": {},
   "outputs": [
    {
     "data": {
      "text/plain": [
       "['534', '342', '123']"
      ]
     },
     "execution_count": 9,
     "metadata": {},
     "output_type": "execute_result"
    }
   ],
   "source": [
    "re.findall(r'\\d{3}',quote)"
   ]
  },
  {
   "cell_type": "code",
   "execution_count": 13,
   "id": "4606216c-8cc1-45bb-9168-1bb14a14d89f",
   "metadata": {},
   "outputs": [
    {
     "data": {
      "text/plain": [
       "['342', '123']"
      ]
     },
     "execution_count": 13,
     "metadata": {},
     "output_type": "execute_result"
    }
   ],
   "source": [
    "re.findall(r'[0-4]{3}',quote)"
   ]
  },
  {
   "cell_type": "code",
   "execution_count": 15,
   "id": "652f9146-c0e2-4b89-94ad-c1b170d03ec1",
   "metadata": {},
   "outputs": [
    {
     "data": {
      "text/plain": [
       "['M',\n",
       " 'y',\n",
       " ' ',\n",
       " 'n',\n",
       " 'a',\n",
       " 'm',\n",
       " 'e',\n",
       " ' ',\n",
       " 'i',\n",
       " 's',\n",
       " ' ',\n",
       " 'N',\n",
       " 'e',\n",
       " 'o',\n",
       " '.',\n",
       " ' ',\n",
       " 'M',\n",
       " 'y',\n",
       " ' ',\n",
       " 'p',\n",
       " 'h',\n",
       " 'o',\n",
       " 'n',\n",
       " 'e',\n",
       " ' ',\n",
       " 'n',\n",
       " 'u',\n",
       " 'm',\n",
       " 'b',\n",
       " 'e',\n",
       " 'r',\n",
       " ' ',\n",
       " 'i',\n",
       " 's',\n",
       " ' ',\n",
       " '-',\n",
       " '-',\n",
       " '.',\n",
       " ' ',\n",
       " 'M',\n",
       " 'y',\n",
       " ' ',\n",
       " 'e',\n",
       " 'm',\n",
       " 'a',\n",
       " 'i',\n",
       " 'l',\n",
       " ' ',\n",
       " 'i',\n",
       " 's',\n",
       " ' ',\n",
       " 'T',\n",
       " 'h',\n",
       " 'e',\n",
       " 'M',\n",
       " 'a',\n",
       " 't',\n",
       " 'r',\n",
       " 'i',\n",
       " 'x',\n",
       " 'M',\n",
       " 'a',\n",
       " 'n',\n",
       " '@',\n",
       " 'g',\n",
       " 'm',\n",
       " 'a',\n",
       " 'i',\n",
       " 'l',\n",
       " '.',\n",
       " 'c',\n",
       " 'o',\n",
       " 'm']"
      ]
     },
     "execution_count": 15,
     "metadata": {},
     "output_type": "execute_result"
    }
   ],
   "source": [
    "re.findall(r'\\D',quote)"
   ]
  },
  {
   "cell_type": "code",
   "execution_count": null,
   "id": "01c24d7b-5df1-4f36-aaf4-9dbb2e13534b",
   "metadata": {},
   "outputs": [],
   "source": [
    "quote = 'My name is Neo. My phone number is 534-342-1234. My email is TheMatrixMan@gmail.com'"
   ]
  },
  {
   "cell_type": "code",
   "execution_count": 17,
   "id": "5e65616a-d73a-493a-912a-6e24c1af4363",
   "metadata": {},
   "outputs": [
    {
     "data": {
      "text/plain": [
       "['M',\n",
       " 'y',\n",
       " 'n',\n",
       " 'a',\n",
       " 'm',\n",
       " 'e',\n",
       " 'i',\n",
       " 's',\n",
       " 'N',\n",
       " 'e',\n",
       " 'o',\n",
       " 'M',\n",
       " 'y',\n",
       " 'p',\n",
       " 'h',\n",
       " 'o',\n",
       " 'n',\n",
       " 'e',\n",
       " 'n',\n",
       " 'u',\n",
       " 'm',\n",
       " 'b',\n",
       " 'e',\n",
       " 'r',\n",
       " 'i',\n",
       " 's',\n",
       " '5',\n",
       " '3',\n",
       " '4',\n",
       " '3',\n",
       " '4',\n",
       " '2',\n",
       " '1',\n",
       " '2',\n",
       " '3',\n",
       " '4',\n",
       " 'M',\n",
       " 'y',\n",
       " 'e',\n",
       " 'm',\n",
       " 'a',\n",
       " 'i',\n",
       " 'l',\n",
       " 'i',\n",
       " 's',\n",
       " 'T',\n",
       " 'h',\n",
       " 'e',\n",
       " 'M',\n",
       " 'a',\n",
       " 't',\n",
       " 'r',\n",
       " 'i',\n",
       " 'x',\n",
       " 'M',\n",
       " 'a',\n",
       " 'n',\n",
       " 'g',\n",
       " 'm',\n",
       " 'a',\n",
       " 'i',\n",
       " 'l',\n",
       " 'c',\n",
       " 'o',\n",
       " 'm']"
      ]
     },
     "execution_count": 17,
     "metadata": {},
     "output_type": "execute_result"
    }
   ],
   "source": [
    "# \\w\n",
    "\n",
    "re.findall(r'\\w',quote)"
   ]
  },
  {
   "cell_type": "code",
   "execution_count": 19,
   "id": "b4e301c7-cd23-4fd4-86c6-994456368e99",
   "metadata": {},
   "outputs": [
    {
     "data": {
      "text/plain": [
       "[' ',\n",
       " ' ',\n",
       " ' ',\n",
       " '.',\n",
       " ' ',\n",
       " ' ',\n",
       " ' ',\n",
       " ' ',\n",
       " ' ',\n",
       " '-',\n",
       " '-',\n",
       " '.',\n",
       " ' ',\n",
       " ' ',\n",
       " ' ',\n",
       " ' ',\n",
       " '@',\n",
       " '.']"
      ]
     },
     "execution_count": 19,
     "metadata": {},
     "output_type": "execute_result"
    }
   ],
   "source": [
    "re.findall(r'\\W',quote)"
   ]
  },
  {
   "cell_type": "code",
   "execution_count": null,
   "id": "466a9942-42b7-4945-aeca-8454da32283d",
   "metadata": {},
   "outputs": [],
   "source": [
    "quote = 'My name is Neo. My phone number is 534-342-1234. My email is TheMatrixMan@gmail.com'"
   ]
  },
  {
   "cell_type": "code",
   "execution_count": 21,
   "id": "69d789fb-c27d-4e17-9642-4cdd2e19044c",
   "metadata": {},
   "outputs": [
    {
     "data": {
      "text/plain": [
       "[' ', ' ', ' ', ' ', ' ', ' ', ' ', ' ', ' ', ' ', ' ', ' ']"
      ]
     },
     "execution_count": 21,
     "metadata": {},
     "output_type": "execute_result"
    }
   ],
   "source": [
    "# \\s\n",
    "\n",
    "re.findall(r'\\s',quote)"
   ]
  },
  {
   "cell_type": "code",
   "execution_count": 23,
   "id": "de336b94-68f3-4c21-844e-c94b588f2a14",
   "metadata": {},
   "outputs": [
    {
     "data": {
      "text/plain": [
       "['M',\n",
       " 'y',\n",
       " 'n',\n",
       " 'a',\n",
       " 'm',\n",
       " 'e',\n",
       " 'i',\n",
       " 's',\n",
       " 'N',\n",
       " 'e',\n",
       " 'o',\n",
       " '.',\n",
       " 'M',\n",
       " 'y',\n",
       " 'p',\n",
       " 'h',\n",
       " 'o',\n",
       " 'n',\n",
       " 'e',\n",
       " 'n',\n",
       " 'u',\n",
       " 'm',\n",
       " 'b',\n",
       " 'e',\n",
       " 'r',\n",
       " 'i',\n",
       " 's',\n",
       " '5',\n",
       " '3',\n",
       " '4',\n",
       " '-',\n",
       " '3',\n",
       " '4',\n",
       " '2',\n",
       " '-',\n",
       " '1',\n",
       " '2',\n",
       " '3',\n",
       " '4',\n",
       " '.',\n",
       " 'M',\n",
       " 'y',\n",
       " 'e',\n",
       " 'm',\n",
       " 'a',\n",
       " 'i',\n",
       " 'l',\n",
       " 'i',\n",
       " 's',\n",
       " 'T',\n",
       " 'h',\n",
       " 'e',\n",
       " 'M',\n",
       " 'a',\n",
       " 't',\n",
       " 'r',\n",
       " 'i',\n",
       " 'x',\n",
       " 'M',\n",
       " 'a',\n",
       " 'n',\n",
       " '@',\n",
       " 'g',\n",
       " 'm',\n",
       " 'a',\n",
       " 'i',\n",
       " 'l',\n",
       " '.',\n",
       " 'c',\n",
       " 'o',\n",
       " 'm']"
      ]
     },
     "execution_count": 23,
     "metadata": {},
     "output_type": "execute_result"
    }
   ],
   "source": [
    "re.findall(r'\\S',quote)"
   ]
  },
  {
   "cell_type": "code",
   "execution_count": null,
   "id": "a47bc3fe-663a-4ed2-8ea2-1fa31d07035d",
   "metadata": {},
   "outputs": [],
   "source": [
    "quote = 'My name is Neo. My phone number is 534-342-1234. My email is TheMatrixMan@gmail.com'"
   ]
  },
  {
   "cell_type": "code",
   "execution_count": 27,
   "id": "71fd61a8-8f26-43ca-be84-4652962246d2",
   "metadata": {},
   "outputs": [
    {
     "data": {
      "text/plain": [
       "['M']"
      ]
     },
     "execution_count": 27,
     "metadata": {},
     "output_type": "execute_result"
    }
   ],
   "source": [
    "# \\A \\Z\n",
    "\n",
    "re.findall(r'\\A[A-Za-z]',quote)"
   ]
  },
  {
   "cell_type": "code",
   "execution_count": 29,
   "id": "b1f8a554-269a-452e-a8c1-87321ad54fc1",
   "metadata": {},
   "outputs": [
    {
     "data": {
      "text/plain": [
       "['m']"
      ]
     },
     "execution_count": 29,
     "metadata": {},
     "output_type": "execute_result"
    }
   ],
   "source": [
    "re.findall(r'[A-Za-z]\\Z',quote)"
   ]
  },
  {
   "cell_type": "code",
   "execution_count": 31,
   "id": "4798a28e-06b5-4b67-b769-593a4dac8449",
   "metadata": {},
   "outputs": [
    {
     "data": {
      "text/plain": [
       "['Matrix', 'Matrix']"
      ]
     },
     "execution_count": 31,
     "metadata": {},
     "output_type": "execute_result"
    }
   ],
   "source": [
    "quote = 'I love the Matrix is MatrixLove a  word?'\n",
    "\n",
    "re.findall(r'Matrix',quote)"
   ]
  },
  {
   "cell_type": "code",
   "execution_count": 33,
   "id": "98758fd1-c266-4a74-b9a2-5f45e6f5f741",
   "metadata": {},
   "outputs": [
    {
     "data": {
      "text/plain": [
       "['Matrix']"
      ]
     },
     "execution_count": 33,
     "metadata": {},
     "output_type": "execute_result"
    }
   ],
   "source": [
    "re.findall(r'\\bMatrix\\b',quote)"
   ]
  },
  {
   "cell_type": "code",
   "execution_count": 35,
   "id": "d1d36259-c949-4289-aece-aa834a42bc6e",
   "metadata": {},
   "outputs": [
    {
     "data": {
      "text/plain": [
       "['atrix', 'atrix']"
      ]
     },
     "execution_count": 35,
     "metadata": {},
     "output_type": "execute_result"
    }
   ],
   "source": [
    "re.findall(r'\\Batrix',quote)"
   ]
  },
  {
   "cell_type": "code",
   "execution_count": null,
   "id": "7421ab36-f4b8-41f2-b355-bb4c5d800f87",
   "metadata": {},
   "outputs": [],
   "source": []
  },
  {
   "cell_type": "code",
   "execution_count": null,
   "id": "b40d3a78-166b-41f6-9305-78645b45fda9",
   "metadata": {},
   "outputs": [],
   "source": []
  },
  {
   "cell_type": "code",
   "execution_count": null,
   "id": "6f14a7fd-64df-4eec-b76c-3901ec747186",
   "metadata": {},
   "outputs": [],
   "source": []
  },
  {
   "cell_type": "code",
   "execution_count": null,
   "id": "54eb91c8-79df-43c4-9fa3-e876640da23a",
   "metadata": {},
   "outputs": [],
   "source": []
  },
  {
   "cell_type": "code",
   "execution_count": null,
   "id": "121c52e9-c0bd-4f92-8cb4-80148f132b68",
   "metadata": {},
   "outputs": [],
   "source": []
  },
  {
   "cell_type": "code",
   "execution_count": null,
   "id": "ba24cbb4-d272-4e8e-ac3c-ebb759b66137",
   "metadata": {},
   "outputs": [],
   "source": []
  },
  {
   "cell_type": "code",
   "execution_count": null,
   "id": "1ce266e4-bb98-4364-833e-e207a5163639",
   "metadata": {},
   "outputs": [],
   "source": []
  },
  {
   "cell_type": "code",
   "execution_count": null,
   "id": "7e21ea41-6377-4625-819d-e6e7df79a45d",
   "metadata": {},
   "outputs": [],
   "source": []
  },
  {
   "cell_type": "code",
   "execution_count": null,
   "id": "7fd75b97-1c99-4492-a814-6bace874b132",
   "metadata": {},
   "outputs": [],
   "source": []
  },
  {
   "cell_type": "code",
   "execution_count": null,
   "id": "16db6aae-0549-4c8f-b477-0f9224871ea0",
   "metadata": {},
   "outputs": [],
   "source": []
  },
  {
   "cell_type": "code",
   "execution_count": null,
   "id": "6f8dc00f-75b6-4e3f-a388-43b34ddd2613",
   "metadata": {},
   "outputs": [],
   "source": []
  },
  {
   "cell_type": "code",
   "execution_count": null,
   "id": "d8cdb80e-5409-40e6-b97c-d0fdd997f18e",
   "metadata": {},
   "outputs": [],
   "source": []
  },
  {
   "cell_type": "code",
   "execution_count": null,
   "id": "b1f353a6-fc12-41bf-99cf-00c3aab02556",
   "metadata": {},
   "outputs": [],
   "source": []
  },
  {
   "cell_type": "code",
   "execution_count": null,
   "id": "2ecace37-eab0-4df4-b489-ef0948701a8f",
   "metadata": {},
   "outputs": [],
   "source": []
  },
  {
   "cell_type": "code",
   "execution_count": null,
   "id": "9e07c6e9-eedd-4405-9610-71b5c7be1b0e",
   "metadata": {},
   "outputs": [],
   "source": []
  },
  {
   "cell_type": "code",
   "execution_count": null,
   "id": "3657f44c-7f69-4c63-8b09-4c1eaaf694f8",
   "metadata": {},
   "outputs": [],
   "source": []
  },
  {
   "cell_type": "code",
   "execution_count": null,
   "id": "fdaded57-2a2d-4e0b-9922-86bed2bbb90b",
   "metadata": {},
   "outputs": [],
   "source": []
  },
  {
   "cell_type": "code",
   "execution_count": null,
   "id": "f4a97651-865a-42ff-b27a-7160b62263d7",
   "metadata": {},
   "outputs": [],
   "source": []
  },
  {
   "cell_type": "code",
   "execution_count": null,
   "id": "fcfda5ca-f6cf-4863-a91c-6c15bcf11e52",
   "metadata": {},
   "outputs": [],
   "source": []
  },
  {
   "cell_type": "code",
   "execution_count": null,
   "id": "deae888a-09f7-471a-8246-bd096d4fb112",
   "metadata": {},
   "outputs": [],
   "source": []
  },
  {
   "cell_type": "code",
   "execution_count": null,
   "id": "ff94e1e9-29e5-4f26-8068-b1681025f1cc",
   "metadata": {},
   "outputs": [],
   "source": []
  },
  {
   "cell_type": "code",
   "execution_count": null,
   "id": "f589cab8-d424-4b0f-b168-fa5791f22e20",
   "metadata": {},
   "outputs": [],
   "source": []
  },
  {
   "cell_type": "code",
   "execution_count": null,
   "id": "75f048bc-a9f4-4469-82c1-31ff69571e6a",
   "metadata": {},
   "outputs": [],
   "source": []
  },
  {
   "cell_type": "code",
   "execution_count": null,
   "id": "0b6cefa7-927f-42c7-99e5-c87b896b982f",
   "metadata": {},
   "outputs": [],
   "source": []
  },
  {
   "cell_type": "code",
   "execution_count": null,
   "id": "e81e4b5f-e1a1-4250-9ffe-37a522578338",
   "metadata": {},
   "outputs": [],
   "source": []
  }
 ],
 "metadata": {
  "kernelspec": {
   "display_name": "Python 3 (ipykernel)",
   "language": "python",
   "name": "python3"
  },
  "language_info": {
   "codemirror_mode": {
    "name": "ipython",
    "version": 3
   },
   "file_extension": ".py",
   "mimetype": "text/x-python",
   "name": "python",
   "nbconvert_exporter": "python",
   "pygments_lexer": "ipython3",
   "version": "3.12.4"
  }
 },
 "nbformat": 4,
 "nbformat_minor": 5
}
