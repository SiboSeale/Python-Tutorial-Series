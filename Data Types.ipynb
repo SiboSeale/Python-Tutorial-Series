{
 "cells": [
  {
   "cell_type": "code",
   "execution_count": 1,
   "id": "a7993e02-c525-4be4-abca-a11826af65f8",
   "metadata": {},
   "outputs": [
    {
     "data": {
      "text/plain": [
       "int"
      ]
     },
     "execution_count": 1,
     "metadata": {},
     "output_type": "execute_result"
    }
   ],
   "source": [
    "type (-12 + 100)"
   ]
  },
  {
   "cell_type": "code",
   "execution_count": 3,
   "id": "39e43121-5dec-40cf-b766-c98666298bd4",
   "metadata": {},
   "outputs": [
    {
     "data": {
      "text/plain": [
       "float"
      ]
     },
     "execution_count": 3,
     "metadata": {},
     "output_type": "execute_result"
    }
   ],
   "source": [
    "type(12 + 10.25)"
   ]
  },
  {
   "cell_type": "code",
   "execution_count": 5,
   "id": "027f526c-09bd-487c-a02d-2cd2639c6be4",
   "metadata": {},
   "outputs": [
    {
     "data": {
      "text/plain": [
       "complex"
      ]
     },
     "execution_count": 5,
     "metadata": {},
     "output_type": "execute_result"
    }
   ],
   "source": [
    "type(12 + 3j)"
   ]
  },
  {
   "cell_type": "code",
   "execution_count": 9,
   "id": "dac1904a-23e1-4de6-9f0c-02f21f24b2da",
   "metadata": {},
   "outputs": [
    {
     "data": {
      "text/plain": [
       "bool"
      ]
     },
     "execution_count": 9,
     "metadata": {},
     "output_type": "execute_result"
    }
   ],
   "source": [
    "# BooLean\n",
    "\n",
    "type(1 > 5)"
   ]
  },
  {
   "cell_type": "code",
   "execution_count": 15,
   "id": "550067a0-db4b-4203-bf21-02998d8ff2a0",
   "metadata": {},
   "outputs": [
    {
     "data": {
      "text/plain": [
       "True"
      ]
     },
     "execution_count": 15,
     "metadata": {},
     "output_type": "execute_result"
    }
   ],
   "source": [
    "(1 == 1)"
   ]
  },
  {
   "cell_type": "code",
   "execution_count": 17,
   "id": "c9b1587c-61f1-47b2-810e-c8d7c12b1b85",
   "metadata": {},
   "outputs": [
    {
     "data": {
      "text/plain": [
       "'Single Quote'"
      ]
     },
     "execution_count": 17,
     "metadata": {},
     "output_type": "execute_result"
    }
   ],
   "source": [
    "# Strings\n",
    "\n",
    "'Single Quote'"
   ]
  },
  {
   "cell_type": "code",
   "execution_count": 19,
   "id": "6858b646-a8d9-480f-8f6b-dacad4349e8a",
   "metadata": {},
   "outputs": [
    {
     "data": {
      "text/plain": [
       "'Double Quote'"
      ]
     },
     "execution_count": 19,
     "metadata": {},
     "output_type": "execute_result"
    }
   ],
   "source": [
    "\"Double Quote\""
   ]
  },
  {
   "cell_type": "code",
   "execution_count": 27,
   "id": "3d5b88de-e118-4747-9895-fb234250211d",
   "metadata": {},
   "outputs": [],
   "source": [
    "multiline = \"\"\"\n",
    "The Ice Cream vanquished \n",
    "my longing for sweets,\n",
    "upon this diet I look away,\n",
    "it no longer exists on this day.\n",
    "\n",
    "\"\"\""
   ]
  },
  {
   "cell_type": "code",
   "execution_count": 29,
   "id": "5160494a-d2b2-4208-acda-18293faa639f",
   "metadata": {},
   "outputs": [
    {
     "name": "stdout",
     "output_type": "stream",
     "text": [
      "\n",
      "The Ice Cream vanquished \n",
      "my longing for sweets,\n",
      "upon this diet I look away,\n",
      "it no longer exists on this day.\n",
      "\n",
      "\n"
     ]
    }
   ],
   "source": [
    "print(multiline)"
   ]
  },
  {
   "cell_type": "code",
   "execution_count": null,
   "id": "046941e4-7f6e-49dc-a684-471ee1d7b74e",
   "metadata": {},
   "outputs": [],
   "source": [
    "\"\"\"\n",
    "I've always wanted to eat a gallon of \"ice cream.\"\n",
    "\n",
    "\"\"\""
   ]
  },
  {
   "cell_type": "code",
   "execution_count": 37,
   "id": "4754ee3e-0fee-4254-bfb6-6b898ff8eab0",
   "metadata": {},
   "outputs": [
    {
     "data": {
      "text/plain": [
       "str"
      ]
     },
     "execution_count": 37,
     "metadata": {},
     "output_type": "execute_result"
    }
   ],
   "source": [
    "type(multiline)"
   ]
  },
  {
   "cell_type": "code",
   "execution_count": 45,
   "id": "6e231fde-0a89-49e6-b3e6-d227fcbfc120",
   "metadata": {},
   "outputs": [],
   "source": [
    "a = 'Hello World!'"
   ]
  },
  {
   "cell_type": "code",
   "execution_count": 49,
   "id": "80baf65c-ce65-4db2-a427-668cdeb5f313",
   "metadata": {},
   "outputs": [
    {
     "name": "stdout",
     "output_type": "stream",
     "text": [
      "Hello\n"
     ]
    }
   ],
   "source": [
    "print(a[:5])"
   ]
  },
  {
   "cell_type": "code",
   "execution_count": 51,
   "id": "3eb295bd-51a9-439c-a602-096d6f30a1b5",
   "metadata": {},
   "outputs": [
    {
     "name": "stdout",
     "output_type": "stream",
     "text": [
      "llo\n"
     ]
    }
   ],
   "source": [
    "print(a[2:5])"
   ]
  },
  {
   "cell_type": "code",
   "execution_count": 53,
   "id": "c0e8bfee-42fe-4298-863b-fe84382e116f",
   "metadata": {},
   "outputs": [
    {
     "data": {
      "text/plain": [
       "'Hello World!Hello World!Hello World!'"
      ]
     },
     "execution_count": 53,
     "metadata": {},
     "output_type": "execute_result"
    }
   ],
   "source": [
    "a*3"
   ]
  },
  {
   "cell_type": "code",
   "execution_count": 55,
   "id": "49db3b42-952d-4895-b5ac-4cb89a23637c",
   "metadata": {},
   "outputs": [
    {
     "data": {
      "text/plain": [
       "'Hello World!Hello World!'"
      ]
     },
     "execution_count": 55,
     "metadata": {},
     "output_type": "execute_result"
    }
   ],
   "source": [
    "a + a"
   ]
  },
  {
   "cell_type": "code",
   "execution_count": 57,
   "id": "baf3c2ea-9a1f-4a54-a48c-ee47728d3917",
   "metadata": {},
   "outputs": [
    {
     "data": {
      "text/plain": [
       "[1, 2, 3]"
      ]
     },
     "execution_count": 57,
     "metadata": {},
     "output_type": "execute_result"
    }
   ],
   "source": [
    "# List\n",
    "\n",
    "[1,2,3]"
   ]
  },
  {
   "cell_type": "code",
   "execution_count": 59,
   "id": "56eff94b-6b27-4256-bf3a-262b7da5dd97",
   "metadata": {},
   "outputs": [
    {
     "data": {
      "text/plain": [
       "['Cookie Dough', 'Strawberry', 'Chocolate']"
      ]
     },
     "execution_count": 59,
     "metadata": {},
     "output_type": "execute_result"
    }
   ],
   "source": [
    "['Cookie Dough', 'Strawberry', 'Chocolate']"
   ]
  },
  {
   "cell_type": "code",
   "execution_count": 63,
   "id": "53d22277-efa0-4256-9ff0-7cd2214525d0",
   "metadata": {},
   "outputs": [
    {
     "data": {
      "text/plain": [
       "['Vanilla', 3, ['Scoops', 'Spoon'], True]"
      ]
     },
     "execution_count": 63,
     "metadata": {},
     "output_type": "execute_result"
    }
   ],
   "source": [
    "['Vanilla', 3, ['Scoops', 'Spoon'], True]"
   ]
  },
  {
   "cell_type": "code",
   "execution_count": 65,
   "id": "80b9f20a-372d-4d59-9d94-7ede25e65a13",
   "metadata": {},
   "outputs": [
    {
     "data": {
      "text/plain": [
       "['Cookie Dough', 'Strawberry', 'Chocolate', 'Salted Caramel']"
      ]
     },
     "execution_count": 65,
     "metadata": {},
     "output_type": "execute_result"
    }
   ],
   "source": [
    "ice_cream = ['Cookie Dough', 'Strawberry', 'Chocolate']\n",
    "\n",
    "ice_cream.append('Salted Caramel')\n",
    "\n",
    "ice_cream"
   ]
  },
  {
   "cell_type": "code",
   "execution_count": 67,
   "id": "263ddace-5a0c-4e2b-b803-563da2e27466",
   "metadata": {},
   "outputs": [
    {
     "data": {
      "text/plain": [
       "['Butter Pecan', 'Strawberry', 'Chocolate', 'Salted Caramel']"
      ]
     },
     "execution_count": 67,
     "metadata": {},
     "output_type": "execute_result"
    }
   ],
   "source": [
    "ice_cream[0] = 'Butter Pecan'\n",
    "\n",
    "ice_cream"
   ]
  },
  {
   "cell_type": "code",
   "execution_count": 69,
   "id": "9fe0c8fd-61b3-4421-98af-1b1dc1666c8f",
   "metadata": {},
   "outputs": [],
   "source": [
    "nest_list = ['Vanilla', 3, ['Scoops', 'Spoon'], True]"
   ]
  },
  {
   "cell_type": "code",
   "execution_count": 71,
   "id": "a8805999-f763-4654-80fb-d689d9358217",
   "metadata": {},
   "outputs": [
    {
     "data": {
      "text/plain": [
       "'Vanilla'"
      ]
     },
     "execution_count": 71,
     "metadata": {},
     "output_type": "execute_result"
    }
   ],
   "source": [
    "nest_list[0]"
   ]
  },
  {
   "cell_type": "code",
   "execution_count": 73,
   "id": "5e964971-f046-45cc-98a4-7fb8eb5d7770",
   "metadata": {},
   "outputs": [
    {
     "data": {
      "text/plain": [
       "['Scoops', 'Spoon']"
      ]
     },
     "execution_count": 73,
     "metadata": {},
     "output_type": "execute_result"
    }
   ],
   "source": [
    "nest_list[2]"
   ]
  },
  {
   "cell_type": "code",
   "execution_count": 75,
   "id": "cddb41f4-01b4-4d73-bca7-b8e19b15da83",
   "metadata": {},
   "outputs": [
    {
     "data": {
      "text/plain": [
       "'Spoon'"
      ]
     },
     "execution_count": 75,
     "metadata": {},
     "output_type": "execute_result"
    }
   ],
   "source": [
    "nest_list[2][1]"
   ]
  },
  {
   "cell_type": "code",
   "execution_count": 77,
   "id": "e5222222-d353-47df-a6d1-7d3e533d2c5c",
   "metadata": {},
   "outputs": [],
   "source": [
    "#tuple\n",
    "\n",
    "tuple_scoops = (1,2,3,2,1)"
   ]
  },
  {
   "cell_type": "code",
   "execution_count": 79,
   "id": "2ffdc447-62e9-46cb-ab2a-3dae7329149c",
   "metadata": {},
   "outputs": [
    {
     "data": {
      "text/plain": [
       "tuple"
      ]
     },
     "execution_count": 79,
     "metadata": {},
     "output_type": "execute_result"
    }
   ],
   "source": [
    "type(tuple_scoops)"
   ]
  },
  {
   "cell_type": "code",
   "execution_count": 81,
   "id": "fb773739-70ee-46f7-925f-d8a3b7f08262",
   "metadata": {},
   "outputs": [
    {
     "data": {
      "text/plain": [
       "1"
      ]
     },
     "execution_count": 81,
     "metadata": {},
     "output_type": "execute_result"
    }
   ],
   "source": [
    "tuple_scoops[0]"
   ]
  },
  {
   "cell_type": "code",
   "execution_count": 83,
   "id": "ffc66144-fef1-41ed-9adc-b5e1b0b224a9",
   "metadata": {},
   "outputs": [],
   "source": [
    "# sets\n",
    "\n",
    "daily_pints = {1,2,3}"
   ]
  },
  {
   "cell_type": "code",
   "execution_count": 85,
   "id": "a69c68e7-c06a-4dcb-9d82-577be32b3239",
   "metadata": {},
   "outputs": [
    {
     "data": {
      "text/plain": [
       "set"
      ]
     },
     "execution_count": 85,
     "metadata": {},
     "output_type": "execute_result"
    }
   ],
   "source": [
    "type(daily_pints)"
   ]
  },
  {
   "cell_type": "code",
   "execution_count": 87,
   "id": "9883cc25-38bd-431a-a510-2c88fa4060f0",
   "metadata": {},
   "outputs": [
    {
     "name": "stdout",
     "output_type": "stream",
     "text": [
      "{1, 2, 3}\n"
     ]
    }
   ],
   "source": [
    "print(daily_pints)"
   ]
  },
  {
   "cell_type": "code",
   "execution_count": 89,
   "id": "0c8991bf-18f7-45fa-881d-ff341dc70a3a",
   "metadata": {},
   "outputs": [
    {
     "name": "stdout",
     "output_type": "stream",
     "text": [
      "{1, 2, 3, 4, 5, 6, 31}\n"
     ]
    }
   ],
   "source": [
    "daily_pints_log = {1,2,31,1,2,4,5,2,6,3,1,2}\n",
    "\n",
    "print(daily_pints_log)"
   ]
  },
  {
   "cell_type": "code",
   "execution_count": 91,
   "id": "d28b61fb-8b71-46f9-860d-a9a0d92c58e6",
   "metadata": {},
   "outputs": [],
   "source": [
    "friends_daily_pints_log = {1,5,2,3,24,6,8,4,3,7}"
   ]
  },
  {
   "cell_type": "code",
   "execution_count": 93,
   "id": "472d5619-5367-423f-9468-ef79e5b2c029",
   "metadata": {},
   "outputs": [
    {
     "name": "stdout",
     "output_type": "stream",
     "text": [
      "{1, 2, 3, 4, 5, 6, 7, 8, 24, 31}\n"
     ]
    }
   ],
   "source": [
    "print(daily_pints_log | friends_daily_pints_log)"
   ]
  },
  {
   "cell_type": "code",
   "execution_count": 95,
   "id": "3a63aec0-0387-45c5-9696-689c2ded0e8f",
   "metadata": {},
   "outputs": [
    {
     "name": "stdout",
     "output_type": "stream",
     "text": [
      "{1, 2, 3, 4, 5, 6}\n"
     ]
    }
   ],
   "source": [
    "print(daily_pints_log & friends_daily_pints_log)"
   ]
  },
  {
   "cell_type": "code",
   "execution_count": 97,
   "id": "0f48d072-73d3-4315-b21a-b14c9128af78",
   "metadata": {},
   "outputs": [
    {
     "name": "stdout",
     "output_type": "stream",
     "text": [
      "{31}\n"
     ]
    }
   ],
   "source": [
    "print(daily_pints_log - friends_daily_pints_log)"
   ]
  },
  {
   "cell_type": "code",
   "execution_count": 99,
   "id": "bcbf2293-f71f-4167-875a-2f6c1661ae09",
   "metadata": {},
   "outputs": [
    {
     "name": "stdout",
     "output_type": "stream",
     "text": [
      "{8, 24, 7}\n"
     ]
    }
   ],
   "source": [
    "print(friends_daily_pints_log - daily_pints_log)"
   ]
  },
  {
   "cell_type": "code",
   "execution_count": 101,
   "id": "f1227569-470d-4778-b6dd-866a8c5a756a",
   "metadata": {},
   "outputs": [
    {
     "name": "stdout",
     "output_type": "stream",
     "text": [
      "{7, 8, 24, 31}\n"
     ]
    }
   ],
   "source": [
    "print(friends_daily_pints_log ^ daily_pints_log)"
   ]
  },
  {
   "cell_type": "code",
   "execution_count": 103,
   "id": "7045109c-cbec-4008-b5ff-417cd1175da7",
   "metadata": {},
   "outputs": [],
   "source": [
    "# dictionaries\n",
    "# Key/Value Pair\n",
    "\n",
    "dict_cream = {'name': 'Sibo Seale', 'weekly intake':5, 'favourite ice cream': ['Vanilla','Chocolate']}"
   ]
  },
  {
   "cell_type": "code",
   "execution_count": 107,
   "id": "bfb633e7-5869-481f-b234-402e539bfdaf",
   "metadata": {},
   "outputs": [
    {
     "data": {
      "text/plain": [
       "dict"
      ]
     },
     "execution_count": 107,
     "metadata": {},
     "output_type": "execute_result"
    }
   ],
   "source": [
    "type(dict_cream)"
   ]
  },
  {
   "cell_type": "code",
   "execution_count": 109,
   "id": "bfc16a17-b9a2-4c74-947d-b662a53f9190",
   "metadata": {},
   "outputs": [
    {
     "name": "stdout",
     "output_type": "stream",
     "text": [
      "{'name': 'Sibo Seale', 'weekly intake': 5, 'favourite ice cream': ['Vanilla', 'Chocolate']}\n"
     ]
    }
   ],
   "source": [
    "print(dict_cream)"
   ]
  },
  {
   "cell_type": "code",
   "execution_count": 111,
   "id": "b9a7224a-3da5-4fdf-ac86-83ba97f63b1f",
   "metadata": {},
   "outputs": [
    {
     "data": {
      "text/plain": [
       "dict_values(['Sibo Seale', 5, ['Vanilla', 'Chocolate']])"
      ]
     },
     "execution_count": 111,
     "metadata": {},
     "output_type": "execute_result"
    }
   ],
   "source": [
    "dict_cream.values()"
   ]
  },
  {
   "cell_type": "code",
   "execution_count": 113,
   "id": "d85723bf-664f-4a4d-bb68-5e23d98f704a",
   "metadata": {},
   "outputs": [
    {
     "data": {
      "text/plain": [
       "dict_keys(['name', 'weekly intake', 'favourite ice cream'])"
      ]
     },
     "execution_count": 113,
     "metadata": {},
     "output_type": "execute_result"
    }
   ],
   "source": [
    "dict_cream.keys()"
   ]
  },
  {
   "cell_type": "code",
   "execution_count": 115,
   "id": "a513db62-4205-48ee-83c3-13a7beb9a803",
   "metadata": {},
   "outputs": [
    {
     "data": {
      "text/plain": [
       "dict_items([('name', 'Sibo Seale'), ('weekly intake', 5), ('favourite ice cream', ['Vanilla', 'Chocolate'])])"
      ]
     },
     "execution_count": 115,
     "metadata": {},
     "output_type": "execute_result"
    }
   ],
   "source": [
    "dict_cream.items()"
   ]
  },
  {
   "cell_type": "code",
   "execution_count": 117,
   "id": "474160dc-7778-4609-9cc7-1039043742b0",
   "metadata": {},
   "outputs": [
    {
     "data": {
      "text/plain": [
       "'Sibo Seale'"
      ]
     },
     "execution_count": 117,
     "metadata": {},
     "output_type": "execute_result"
    }
   ],
   "source": [
    "dict_cream['name']"
   ]
  },
  {
   "cell_type": "code",
   "execution_count": 119,
   "id": "6bf9c62f-3d6a-4cda-8e39-8ace96d0ea7e",
   "metadata": {},
   "outputs": [
    {
     "name": "stdout",
     "output_type": "stream",
     "text": [
      "{'name': 'KG Phakedi', 'weekly intake': 5, 'favourite ice cream': ['Vanilla', 'Chocolate']}\n"
     ]
    }
   ],
   "source": [
    "dict_cream['name'] = 'KG Phakedi'\n",
    "\n",
    "print(dict_cream)"
   ]
  },
  {
   "cell_type": "code",
   "execution_count": 127,
   "id": "958ca40a-f075-4391-af3f-46e4bd9f6ab8",
   "metadata": {},
   "outputs": [
    {
     "name": "stdout",
     "output_type": "stream",
     "text": [
      "{'name': 'KG Phakedi', 'weekly intake': 5, 'favourite ice cream': ['Vanilla', 'Chocolate'], 'weigh': 150, 'weight': 150}\n"
     ]
    }
   ],
   "source": [
    "dict_cream.update ({'name': 'KG Phakedi', 'weekly intake': 5, 'weight': 150})\n",
    "\n",
    "print(dict_cream)"
   ]
  },
  {
   "cell_type": "code",
   "execution_count": 129,
   "id": "e5b96033-aa76-4b9d-8fb9-827df0b479cb",
   "metadata": {},
   "outputs": [
    {
     "name": "stdout",
     "output_type": "stream",
     "text": [
      "{'name': 'KG Phakedi', 'weekly intake': 5, 'favourite ice cream': ['Vanilla', 'Chocolate'], 'weigh': 150}\n"
     ]
    }
   ],
   "source": [
    "del dict_cream['weight']\n",
    "\n",
    "print(dict_cream)"
   ]
  },
  {
   "cell_type": "code",
   "execution_count": 131,
   "id": "b6595c6b-fe81-4f75-8f6a-c15e2afe6c30",
   "metadata": {},
   "outputs": [
    {
     "name": "stdout",
     "output_type": "stream",
     "text": [
      "{'name': 'KG Phakedi', 'weekly intake': 5, 'favourite ice cream': ['Vanilla', 'Chocolate']}\n"
     ]
    }
   ],
   "source": [
    "del dict_cream['weigh']\n",
    "\n",
    "print(dict_cream)"
   ]
  },
  {
   "cell_type": "code",
   "execution_count": null,
   "id": "302a054c-c3c9-4a16-8ac8-8e4f54121405",
   "metadata": {},
   "outputs": [],
   "source": []
  }
 ],
 "metadata": {
  "kernelspec": {
   "display_name": "Python 3 (ipykernel)",
   "language": "python",
   "name": "python3"
  },
  "language_info": {
   "codemirror_mode": {
    "name": "ipython",
    "version": 3
   },
   "file_extension": ".py",
   "mimetype": "text/x-python",
   "name": "python",
   "nbconvert_exporter": "python",
   "pygments_lexer": "ipython3",
   "version": "3.12.4"
  }
 },
 "nbformat": 4,
 "nbformat_minor": 5
}
