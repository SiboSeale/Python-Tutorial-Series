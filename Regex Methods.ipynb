{
 "cells": [
  {
   "cell_type": "code",
   "execution_count": 2,
   "id": "9898e313-a68c-4872-b506-cd6ffa3af09f",
   "metadata": {},
   "outputs": [],
   "source": [
    "import re"
   ]
  },
  {
   "cell_type": "code",
   "execution_count": 4,
   "id": "ba67c046-c157-4889-bd51-87109e406a1f",
   "metadata": {},
   "outputs": [],
   "source": [
    "quote = \"There's one thing I hate more than lying: skim milk. Which is water that's lying about being milk. - Ron Swanson\""
   ]
  },
  {
   "cell_type": "code",
   "execution_count": 8,
   "id": "7aee58f0-72fe-464b-bde7-bcc7bb67a289",
   "metadata": {},
   "outputs": [
    {
     "data": {
      "text/plain": [
       "'milk'"
      ]
     },
     "execution_count": 8,
     "metadata": {},
     "output_type": "execute_result"
    }
   ],
   "source": [
    "re.search(\"milk\",quote).group()"
   ]
  },
  {
   "cell_type": "code",
   "execution_count": 10,
   "id": "8a916823-5378-4473-a82e-c8c70c744969",
   "metadata": {},
   "outputs": [
    {
     "data": {
      "text/plain": [
       "['milk', 'milk']"
      ]
     },
     "execution_count": 10,
     "metadata": {},
     "output_type": "execute_result"
    }
   ],
   "source": [
    "re.findall(\"milk\",quote)"
   ]
  },
  {
   "cell_type": "code",
   "execution_count": 12,
   "id": "e1589cc7-7e42-4f4a-878c-f35380ed0f8a",
   "metadata": {},
   "outputs": [
    {
     "data": {
      "text/plain": [
       "2"
      ]
     },
     "execution_count": 12,
     "metadata": {},
     "output_type": "execute_result"
    }
   ],
   "source": [
    "len(re.findall(\"milk\",quote))"
   ]
  },
  {
   "cell_type": "code",
   "execution_count": 14,
   "id": "d91636ba-3e1d-42b9-a9c3-73ba8cbc7d0d",
   "metadata": {},
   "outputs": [
    {
     "data": {
      "text/plain": [
       "[\"There's one thing I hate more than lying: skim \",\n",
       " \". Which is water that's lying about being \",\n",
       " '. - Ron Swanson']"
      ]
     },
     "execution_count": 14,
     "metadata": {},
     "output_type": "execute_result"
    }
   ],
   "source": [
    "re.split(\"milk\",quote)"
   ]
  },
  {
   "cell_type": "code",
   "execution_count": 16,
   "id": "f94e0932-31ba-4d4f-9919-d949d2298317",
   "metadata": {},
   "outputs": [
    {
     "data": {
      "text/plain": [
       "[\"There's one thing I hate more than lying: skim milk\",\n",
       " \" Which is water that's lying about being milk\",\n",
       " ' - Ron Swanson']"
      ]
     },
     "execution_count": 16,
     "metadata": {},
     "output_type": "execute_result"
    }
   ],
   "source": [
    "re.split(r\"\\.\",quote)"
   ]
  },
  {
   "cell_type": "code",
   "execution_count": 18,
   "id": "c054758d-aa3e-47e9-a2e7-86f7ff7adab5",
   "metadata": {},
   "outputs": [
    {
     "data": {
      "text/plain": [
       "\"There's one thing You hate more than lying: skim milk. Which is water that's lying about being milk. - Ron Swanson\""
      ]
     },
     "execution_count": 18,
     "metadata": {},
     "output_type": "execute_result"
    }
   ],
   "source": [
    "re.sub(\"I\", \"You\",quote)"
   ]
  },
  {
   "cell_type": "code",
   "execution_count": 20,
   "id": "00cb8332-e044-4309-9dff-28c0f91e2c2f",
   "metadata": {},
   "outputs": [
    {
     "data": {
      "text/plain": [
       "\"There's one thing I hate more than lying: skim dairy. Which is water that's lying about being dairy. - Ron Swanson\""
      ]
     },
     "execution_count": 20,
     "metadata": {},
     "output_type": "execute_result"
    }
   ],
   "source": [
    "re.sub(\"milk\", \"dairy\",quote)"
   ]
  },
  {
   "cell_type": "code",
   "execution_count": 22,
   "id": "bb5abb59-ca7f-47cf-a22e-cf3a41f8744f",
   "metadata": {},
   "outputs": [
    {
     "data": {
      "text/plain": [
       "\"There's one thing I hate more than lying: skim dairy. Which is water that's lying about being milk. - Ron Swanson\""
      ]
     },
     "execution_count": 22,
     "metadata": {},
     "output_type": "execute_result"
    }
   ],
   "source": [
    "re.sub(\"milk\", \"dairy\",quote, count = 1)"
   ]
  },
  {
   "cell_type": "code",
   "execution_count": null,
   "id": "acaee7b7-57a4-4b82-a098-336e27b8270b",
   "metadata": {},
   "outputs": [],
   "source": []
  },
  {
   "cell_type": "code",
   "execution_count": null,
   "id": "bb12872b-1c3a-4c9c-8be8-2730a65cf2b9",
   "metadata": {},
   "outputs": [],
   "source": []
  },
  {
   "cell_type": "code",
   "execution_count": null,
   "id": "76462eeb-a3bd-4d61-9318-5a39b512cd7a",
   "metadata": {},
   "outputs": [],
   "source": []
  },
  {
   "cell_type": "code",
   "execution_count": null,
   "id": "5edbf5d5-d0ed-4fd1-b066-c25f2b56c7f3",
   "metadata": {},
   "outputs": [],
   "source": []
  },
  {
   "cell_type": "code",
   "execution_count": null,
   "id": "134da258-9490-4446-9087-da23f667658a",
   "metadata": {},
   "outputs": [],
   "source": []
  },
  {
   "cell_type": "code",
   "execution_count": null,
   "id": "d935c3e0-9417-40ab-82b6-3da8382f3f7a",
   "metadata": {},
   "outputs": [],
   "source": []
  },
  {
   "cell_type": "code",
   "execution_count": null,
   "id": "a8bac245-8dce-4b81-b194-a94573837b00",
   "metadata": {},
   "outputs": [],
   "source": []
  },
  {
   "cell_type": "code",
   "execution_count": null,
   "id": "0caa9541-6e51-4c05-ac51-e5242c639fdd",
   "metadata": {},
   "outputs": [],
   "source": []
  },
  {
   "cell_type": "code",
   "execution_count": null,
   "id": "29d03874-be69-4f7c-bc84-1ebdce50ba40",
   "metadata": {},
   "outputs": [],
   "source": []
  },
  {
   "cell_type": "code",
   "execution_count": null,
   "id": "c12dc24f-26e6-4e7e-bb18-ccc2302996ca",
   "metadata": {},
   "outputs": [],
   "source": []
  },
  {
   "cell_type": "code",
   "execution_count": null,
   "id": "0c566d46-27a8-4585-8639-2efc43342ba7",
   "metadata": {},
   "outputs": [],
   "source": []
  },
  {
   "cell_type": "code",
   "execution_count": null,
   "id": "fc327bf2-3d63-4518-b44e-ca6bbfce3ded",
   "metadata": {},
   "outputs": [],
   "source": []
  },
  {
   "cell_type": "code",
   "execution_count": null,
   "id": "396c032a-9b43-4710-956c-8fe1e3d50d9d",
   "metadata": {},
   "outputs": [],
   "source": []
  },
  {
   "cell_type": "code",
   "execution_count": null,
   "id": "90293881-33cb-49d6-8bda-0426f3eaa398",
   "metadata": {},
   "outputs": [],
   "source": []
  },
  {
   "cell_type": "code",
   "execution_count": null,
   "id": "524b9d6e-eb08-4f40-b652-2f644f4312f7",
   "metadata": {},
   "outputs": [],
   "source": []
  },
  {
   "cell_type": "code",
   "execution_count": null,
   "id": "1e731480-f857-40c4-aef7-7662328ca489",
   "metadata": {},
   "outputs": [],
   "source": []
  },
  {
   "cell_type": "code",
   "execution_count": null,
   "id": "430c14e5-5f6f-4361-8bde-08d6055eb520",
   "metadata": {},
   "outputs": [],
   "source": []
  },
  {
   "cell_type": "code",
   "execution_count": null,
   "id": "1b67024d-9333-4899-824f-d13ba253cff6",
   "metadata": {},
   "outputs": [],
   "source": []
  },
  {
   "cell_type": "code",
   "execution_count": null,
   "id": "1d49b17b-04ae-4cc2-9028-8842aac83e88",
   "metadata": {},
   "outputs": [],
   "source": []
  },
  {
   "cell_type": "code",
   "execution_count": null,
   "id": "91885f70-142c-4e27-b8b8-bea27526d415",
   "metadata": {},
   "outputs": [],
   "source": []
  },
  {
   "cell_type": "code",
   "execution_count": null,
   "id": "f214dd54-4b69-4699-9553-e215f24515e5",
   "metadata": {},
   "outputs": [],
   "source": []
  },
  {
   "cell_type": "code",
   "execution_count": null,
   "id": "ecba814f-ebd7-47ee-aa5f-f54ae216c9b6",
   "metadata": {},
   "outputs": [],
   "source": []
  },
  {
   "cell_type": "code",
   "execution_count": null,
   "id": "ff960c76-0f56-43e6-990f-d41cf9c1119e",
   "metadata": {},
   "outputs": [],
   "source": []
  },
  {
   "cell_type": "code",
   "execution_count": null,
   "id": "3cd7f067-867e-4ee1-93d5-b7fefd6a1643",
   "metadata": {},
   "outputs": [],
   "source": []
  },
  {
   "cell_type": "code",
   "execution_count": null,
   "id": "f61a9a8b-f8cc-400f-9f07-387f546fefb3",
   "metadata": {},
   "outputs": [],
   "source": []
  },
  {
   "cell_type": "code",
   "execution_count": null,
   "id": "27ff991b-e5da-4891-8711-a9ed59f33642",
   "metadata": {},
   "outputs": [],
   "source": []
  },
  {
   "cell_type": "code",
   "execution_count": null,
   "id": "e1aee775-b4e1-4618-98d6-4e817e6ad62d",
   "metadata": {},
   "outputs": [],
   "source": []
  },
  {
   "cell_type": "code",
   "execution_count": null,
   "id": "0350f99c-93e5-41b1-9a7b-20fcb8fdb85e",
   "metadata": {},
   "outputs": [],
   "source": []
  },
  {
   "cell_type": "code",
   "execution_count": null,
   "id": "a6d1bc8d-3c48-4dc5-a3e0-8e794513c91d",
   "metadata": {},
   "outputs": [],
   "source": []
  },
  {
   "cell_type": "code",
   "execution_count": null,
   "id": "6953f66c-98ef-44ec-b674-b801e825cc05",
   "metadata": {},
   "outputs": [],
   "source": []
  },
  {
   "cell_type": "code",
   "execution_count": null,
   "id": "d021bb7f-80de-4787-93da-f4db76cfc919",
   "metadata": {},
   "outputs": [],
   "source": []
  },
  {
   "cell_type": "code",
   "execution_count": null,
   "id": "0dd5a3bc-7494-40a5-ac39-561d218d7702",
   "metadata": {},
   "outputs": [],
   "source": []
  },
  {
   "cell_type": "code",
   "execution_count": null,
   "id": "f58b26bb-3d22-4031-8885-8d3cd68976e5",
   "metadata": {},
   "outputs": [],
   "source": []
  },
  {
   "cell_type": "code",
   "execution_count": null,
   "id": "164d33a4-03df-4a5c-ad14-a700bebda6b6",
   "metadata": {},
   "outputs": [],
   "source": []
  },
  {
   "cell_type": "code",
   "execution_count": null,
   "id": "d516090e-4427-452e-9b39-84151b364a75",
   "metadata": {},
   "outputs": [],
   "source": []
  },
  {
   "cell_type": "code",
   "execution_count": null,
   "id": "9a57e8b0-8141-4bcf-bf88-a7e02597c162",
   "metadata": {},
   "outputs": [],
   "source": []
  }
 ],
 "metadata": {
  "kernelspec": {
   "display_name": "Python 3 (ipykernel)",
   "language": "python",
   "name": "python3"
  },
  "language_info": {
   "codemirror_mode": {
    "name": "ipython",
    "version": 3
   },
   "file_extension": ".py",
   "mimetype": "text/x-python",
   "name": "python",
   "nbconvert_exporter": "python",
   "pygments_lexer": "ipython3",
   "version": "3.12.4"
  }
 },
 "nbformat": 4,
 "nbformat_minor": 5
}
