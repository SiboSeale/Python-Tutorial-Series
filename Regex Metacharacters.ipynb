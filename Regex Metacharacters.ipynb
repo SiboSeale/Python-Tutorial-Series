{
 "cells": [
  {
   "cell_type": "code",
   "execution_count": 2,
   "id": "e55d12d2-5e00-4857-82c9-3450aad2e64d",
   "metadata": {},
   "outputs": [],
   "source": [
    "import re"
   ]
  },
  {
   "cell_type": "code",
   "execution_count": 4,
   "id": "a5e9f6cf-61a3-410c-8325-0f47522ceb99",
   "metadata": {},
   "outputs": [
    {
     "data": {
      "text/plain": [
       "['l', 'i', 'k', 'e', 'h', 'e', 'm', 'a', 'i', 'i', 'h', 'e', 'i', 'g']"
      ]
     },
     "execution_count": 4,
     "metadata": {},
     "output_type": "execute_result"
    }
   ],
   "source": [
    "string = 'I like the mountains in the spring.'\n",
    "\n",
    "re.findall('[a-m]',string)"
   ]
  },
  {
   "cell_type": "code",
   "execution_count": 6,
   "id": "ce334991-676c-4156-a822-0282bc0a4455",
   "metadata": {},
   "outputs": [
    {
     "data": {
      "text/plain": [
       "['I',\n",
       " 'l',\n",
       " 'i',\n",
       " 'k',\n",
       " 'e',\n",
       " 't',\n",
       " 'h',\n",
       " 'e',\n",
       " 'm',\n",
       " 'o',\n",
       " 'u',\n",
       " 'n',\n",
       " 't',\n",
       " 'a',\n",
       " 'i',\n",
       " 'n',\n",
       " 's',\n",
       " 'i',\n",
       " 'n',\n",
       " 't',\n",
       " 'h',\n",
       " 'e',\n",
       " 's',\n",
       " 'p',\n",
       " 'r',\n",
       " 'i',\n",
       " 'n',\n",
       " 'g']"
      ]
     },
     "execution_count": 6,
     "metadata": {},
     "output_type": "execute_result"
    }
   ],
   "source": [
    "string = 'I like the mountains in the spring.'\n",
    "\n",
    "re.findall('[a-zA-Z]',string)"
   ]
  },
  {
   "cell_type": "code",
   "execution_count": 8,
   "id": "a17c70f1-3e96-45fd-b2ad-3fed9f300b10",
   "metadata": {},
   "outputs": [
    {
     "data": {
      "text/plain": [
       "['I',\n",
       " 'l',\n",
       " 'i',\n",
       " 'k',\n",
       " 'e',\n",
       " 't',\n",
       " 'h',\n",
       " 'e',\n",
       " 'm',\n",
       " 'o',\n",
       " 'u',\n",
       " 'n',\n",
       " 't',\n",
       " 'a',\n",
       " 'i',\n",
       " 'n',\n",
       " 's',\n",
       " 'i',\n",
       " 'n',\n",
       " 't',\n",
       " 'h',\n",
       " 'e',\n",
       " 's',\n",
       " 'p',\n",
       " 'r',\n",
       " 'i',\n",
       " 'n',\n",
       " 'g',\n",
       " '2',\n",
       " '3',\n",
       " '4',\n",
       " '0',\n",
       " '9',\n",
       " '8']"
      ]
     },
     "execution_count": 8,
     "metadata": {},
     "output_type": "execute_result"
    }
   ],
   "source": [
    "string = 'I like the mountains in the spring. 234098'\n",
    "\n",
    "re.findall('[a-zA-Z0-9]',string)"
   ]
  },
  {
   "cell_type": "code",
   "execution_count": 10,
   "id": "9a66c027-bd67-401d-a604-bd1a8ef4dbbd",
   "metadata": {},
   "outputs": [
    {
     "data": {
      "text/plain": [
       "['1', '2', '3', '4']"
      ]
     },
     "execution_count": 10,
     "metadata": {},
     "output_type": "execute_result"
    }
   ],
   "source": [
    "string = 'I have 123,456 koalas!'\n",
    "\n",
    "re.findall('[0-4]',string)"
   ]
  },
  {
   "cell_type": "code",
   "execution_count": 14,
   "id": "5f56a126-ab8d-4644-a8b2-9021237c9756",
   "metadata": {},
   "outputs": [
    {
     "data": {
      "text/plain": [
       "['Y',\n",
       " 'o',\n",
       " 'u',\n",
       " ' ',\n",
       " 'c',\n",
       " 'a',\n",
       " 'n',\n",
       " ' ',\n",
       " 's',\n",
       " 'e',\n",
       " 'e',\n",
       " ' ',\n",
       " 's',\n",
       " 'e',\n",
       " 'a',\n",
       " ' ',\n",
       " 's',\n",
       " 'h',\n",
       " 'e',\n",
       " 'l',\n",
       " 'l',\n",
       " 's',\n",
       " ' ',\n",
       " 'b',\n",
       " 'y',\n",
       " ' ',\n",
       " 't',\n",
       " 'h',\n",
       " 'e',\n",
       " ' ',\n",
       " 's',\n",
       " 'e',\n",
       " 'a',\n",
       " ' ',\n",
       " 's',\n",
       " 'h',\n",
       " 'o',\n",
       " 'r',\n",
       " 'e']"
      ]
     },
     "execution_count": 14,
     "metadata": {},
     "output_type": "execute_result"
    }
   ],
   "source": [
    "string = 'You can see sea shells by the sea shore'\n",
    "\n",
    "re.findall('.',string)"
   ]
  },
  {
   "cell_type": "code",
   "execution_count": 16,
   "id": "a41b0500-ca70-4f53-809e-0222d3dcd9b1",
   "metadata": {},
   "outputs": [
    {
     "data": {
      "text/plain": [
       "['sea', 'sea']"
      ]
     },
     "execution_count": 16,
     "metadata": {},
     "output_type": "execute_result"
    }
   ],
   "source": [
    "string = 'You can see sea shells by the sea shore'\n",
    "\n",
    "re.findall('s.a',string)"
   ]
  },
  {
   "cell_type": "code",
   "execution_count": 18,
   "id": "b3779b7e-1249-49b7-a3e3-47621977edf5",
   "metadata": {},
   "outputs": [
    {
     "data": {
      "text/plain": [
       "['sea', 'sea', 'sba']"
      ]
     },
     "execution_count": 18,
     "metadata": {},
     "output_type": "execute_result"
    }
   ],
   "source": [
    "string = 'You can see sea shells by the sea shore. sba'\n",
    "\n",
    "re.findall('s.a',string)"
   ]
  },
  {
   "cell_type": "code",
   "execution_count": 20,
   "id": "3654c025-4448-4927-ae63-5a8567e7cddf",
   "metadata": {},
   "outputs": [
    {
     "data": {
      "text/plain": [
       "['sea', 'sea', 'sba']"
      ]
     },
     "execution_count": 20,
     "metadata": {},
     "output_type": "execute_result"
    }
   ],
   "source": [
    "string = 'You can see sea shells by the sea shore. sba'\n",
    "\n",
    "re.findall('s.{1}a',string)"
   ]
  },
  {
   "cell_type": "code",
   "execution_count": 22,
   "id": "5fa788b1-99ca-4624-bd01-a10f398819d2",
   "metadata": {},
   "outputs": [
    {
     "data": {
      "text/plain": [
       "['Well', 'Will']"
      ]
     },
     "execution_count": 22,
     "metadata": {},
     "output_type": "execute_result"
    }
   ],
   "source": [
    "string = \"Well well well... if it isn't Will Wilmer\"\n",
    "\n",
    "re.findall('W.{2}l',string)"
   ]
  },
  {
   "cell_type": "code",
   "execution_count": null,
   "id": "adfc073f-5a9f-457a-b406-e9757df63884",
   "metadata": {},
   "outputs": [],
   "source": [
    "# $(end of a string) ^(the beginning of a string)"
   ]
  },
  {
   "cell_type": "code",
   "execution_count": 24,
   "id": "e0dd4a3f-428f-4b91-9c01-0614eb24919c",
   "metadata": {},
   "outputs": [
    {
     "data": {
      "text/plain": [
       "['Happy']"
      ]
     },
     "execution_count": 24,
     "metadata": {},
     "output_type": "execute_result"
    }
   ],
   "source": [
    "string = 'Happy birthday to you. Happy birthday to you. Happy birthday dear Alex, happy birthday to you.'\n",
    "\n",
    "re.findall('^Happy',string)"
   ]
  },
  {
   "cell_type": "code",
   "execution_count": 26,
   "id": "7e95a6af-0477-49ca-85af-d90251524bee",
   "metadata": {},
   "outputs": [
    {
     "data": {
      "text/plain": [
       "['you.']"
      ]
     },
     "execution_count": 26,
     "metadata": {},
     "output_type": "execute_result"
    }
   ],
   "source": [
    "re.findall('you.$',string)"
   ]
  },
  {
   "cell_type": "code",
   "execution_count": null,
   "id": "1cb03a96-4fe4-462c-a69d-adfb27573ffc",
   "metadata": {},
   "outputs": [],
   "source": [
    "# * - zero or more\n",
    "# + - one or more\n",
    "# ? - zero or one"
   ]
  },
  {
   "cell_type": "code",
   "execution_count": 28,
   "id": "0994fb6a-8052-496a-b12c-fd16cd282f8b",
   "metadata": {},
   "outputs": [
    {
     "data": {
      "text/plain": [
       "['This Thing called a Thimble has Thrice hurt me']"
      ]
     },
     "execution_count": 28,
     "metadata": {},
     "output_type": "execute_result"
    }
   ],
   "source": [
    "string = 'This Thing called a Thimble has Thrice hurt me'\n",
    "\n",
    "re.findall('Thi.*',string)"
   ]
  },
  {
   "cell_type": "code",
   "execution_count": 30,
   "id": "f04cfc63-d69f-4a59-857e-74e9b124ab6f",
   "metadata": {},
   "outputs": [
    {
     "data": {
      "text/plain": [
       "['This Thing called a Thimble has']"
      ]
     },
     "execution_count": 30,
     "metadata": {},
     "output_type": "execute_result"
    }
   ],
   "source": [
    "string = 'This Thing called a Thimble has Thrice hurt me'\n",
    "\n",
    "re.findall('Thi.*s',string)"
   ]
  },
  {
   "cell_type": "code",
   "execution_count": 34,
   "id": "645a1a1b-f642-486f-b307-a125f02142c9",
   "metadata": {},
   "outputs": [
    {
     "data": {
      "text/plain": [
       "[]"
      ]
     },
     "execution_count": 34,
     "metadata": {},
     "output_type": "execute_result"
    }
   ],
   "source": [
    "string = 'This Thing called a Thimble ha Thrice hurt me'\n",
    "\n",
    "re.findall('Thi.+s',string)"
   ]
  },
  {
   "cell_type": "code",
   "execution_count": 36,
   "id": "d81c21c3-ee88-46b7-98d5-9cd1ada12d12",
   "metadata": {},
   "outputs": [
    {
     "data": {
      "text/plain": [
       "['This']"
      ]
     },
     "execution_count": 36,
     "metadata": {},
     "output_type": "execute_result"
    }
   ],
   "source": [
    "string = 'This Thing called a Thimble ha Thrice hurt me'\n",
    "\n",
    "re.findall('Thi.?s',string)"
   ]
  },
  {
   "cell_type": "code",
   "execution_count": 40,
   "id": "0085a51e-030a-4c1a-b235-2a6aaace76da",
   "metadata": {},
   "outputs": [
    {
     "data": {
      "text/plain": [
       "['This Thing called a Thimble ha Thrice hurt me']"
      ]
     },
     "execution_count": 40,
     "metadata": {},
     "output_type": "execute_result"
    }
   ],
   "source": [
    "string = 'This Thing called a Thimble ha Thrice hurt me'\n",
    "\n",
    "re.findall('Thi.*e',string)"
   ]
  },
  {
   "cell_type": "code",
   "execution_count": 42,
   "id": "61b7f956-4100-4f83-93a6-c08d716dc3c2",
   "metadata": {},
   "outputs": [
    {
     "data": {
      "text/plain": [
       "['This Thing called a Thimble ha Thrice hurt me']"
      ]
     },
     "execution_count": 42,
     "metadata": {},
     "output_type": "execute_result"
    }
   ],
   "source": [
    "string = 'This Thing called a Thimble ha Thrice hurt me'\n",
    "\n",
    "re.findall('Thi.+e',string)"
   ]
  },
  {
   "cell_type": "code",
   "execution_count": 46,
   "id": "0ac07c73-5e9f-437d-a6a9-ff54281250c7",
   "metadata": {},
   "outputs": [
    {
     "data": {
      "text/plain": [
       "['Thimble']"
      ]
     },
     "execution_count": 46,
     "metadata": {},
     "output_type": "execute_result"
    }
   ],
   "source": [
    "string = 'This Thing called a Thimble ha Thrice hurt me'\n",
    "\n",
    "re.findall('Thi.{3}?e',string)"
   ]
  },
  {
   "cell_type": "code",
   "execution_count": 48,
   "id": "3d19e763-5c20-44a2-96e7-09e4fb56c06e",
   "metadata": {},
   "outputs": [
    {
     "data": {
      "text/plain": [
       "['hate', 'beautiful']"
      ]
     },
     "execution_count": 48,
     "metadata": {},
     "output_type": "execute_result"
    }
   ],
   "source": [
    "string = 'I hate that I love balloon animals. They are beautiful.'\n",
    "\n",
    "re.findall('hate|beautiful',string)"
   ]
  },
  {
   "cell_type": "code",
   "execution_count": 50,
   "id": "26d9c21e-c9ee-40ba-ad6f-341adfe845ea",
   "metadata": {},
   "outputs": [
    {
     "data": {
      "text/plain": [
       "['beautiful']"
      ]
     },
     "execution_count": 50,
     "metadata": {},
     "output_type": "execute_result"
    }
   ],
   "source": [
    "string = 'I hate that I love balloon animals. They are beautiful.'\n",
    "\n",
    "re.findall('lovely|beautiful',string)"
   ]
  },
  {
   "cell_type": "code",
   "execution_count": 54,
   "id": "0ffda92f-c6cf-42f6-a6c7-d2a49541fc1c",
   "metadata": {},
   "outputs": [
    {
     "data": {
      "text/plain": [
       "['I',\n",
       " ' ',\n",
       " 'l',\n",
       " 'i',\n",
       " 'k',\n",
       " 'e',\n",
       " ' ',\n",
       " 'c',\n",
       " 'a',\n",
       " 't',\n",
       " 's',\n",
       " '.',\n",
       " ' ',\n",
       " 'Y',\n",
       " 'o',\n",
       " 'u',\n",
       " ' ',\n",
       " 'l',\n",
       " 'i',\n",
       " 'k',\n",
       " 'e',\n",
       " ' ',\n",
       " 'c',\n",
       " 'a',\n",
       " 't',\n",
       " 's',\n",
       " '.',\n",
       " ' ',\n",
       " 'W',\n",
       " 'e',\n",
       " ' ',\n",
       " 'a',\n",
       " 'l',\n",
       " 'l',\n",
       " ' ',\n",
       " 'l',\n",
       " 'i',\n",
       " 'k',\n",
       " 'e',\n",
       " ' ',\n",
       " 'c',\n",
       " 'a',\n",
       " 't',\n",
       " 's',\n",
       " '.']"
      ]
     },
     "execution_count": 54,
     "metadata": {},
     "output_type": "execute_result"
    }
   ],
   "source": [
    "string = 'I like cats. You like cats. We all like cats.'\n",
    "\n",
    "re.findall('.',string)"
   ]
  },
  {
   "cell_type": "code",
   "execution_count": 60,
   "id": "6c650d88-af70-482f-9dbb-daff8d4fe127",
   "metadata": {},
   "outputs": [
    {
     "data": {
      "text/plain": [
       "['.', '.', '.']"
      ]
     },
     "execution_count": 60,
     "metadata": {},
     "output_type": "execute_result"
    }
   ],
   "source": [
    "string = 'I like cats. You like cats. We all like cats.'\n",
    "\n",
    "re.findall(r'\\.',string)"
   ]
  },
  {
   "cell_type": "code",
   "execution_count": null,
   "id": "2e36ee5e-c137-49df-8bd8-2b4ca2448c63",
   "metadata": {},
   "outputs": [],
   "source": []
  },
  {
   "cell_type": "code",
   "execution_count": null,
   "id": "084d3d04-3760-4ac7-8cbe-173bb9158a6d",
   "metadata": {},
   "outputs": [],
   "source": []
  },
  {
   "cell_type": "code",
   "execution_count": null,
   "id": "ad76ca73-eed0-41a8-b21d-8a9c3fd80e92",
   "metadata": {},
   "outputs": [],
   "source": []
  },
  {
   "cell_type": "code",
   "execution_count": null,
   "id": "662fe79d-b076-4e46-bc6c-5d231c5cfa64",
   "metadata": {},
   "outputs": [],
   "source": []
  },
  {
   "cell_type": "code",
   "execution_count": null,
   "id": "9081953e-a575-473f-82da-4ee01678e901",
   "metadata": {},
   "outputs": [],
   "source": []
  },
  {
   "cell_type": "code",
   "execution_count": null,
   "id": "ae94b877-0ee2-4af1-81a5-c1354c279165",
   "metadata": {},
   "outputs": [],
   "source": []
  },
  {
   "cell_type": "code",
   "execution_count": null,
   "id": "89f44a38-1821-46dc-893e-a79211a4c0aa",
   "metadata": {},
   "outputs": [],
   "source": []
  },
  {
   "cell_type": "code",
   "execution_count": null,
   "id": "73c9699d-b4f0-46dd-b725-45d70dca7169",
   "metadata": {},
   "outputs": [],
   "source": []
  },
  {
   "cell_type": "code",
   "execution_count": null,
   "id": "543a1590-e258-4fa1-aea7-c3df4622149b",
   "metadata": {},
   "outputs": [],
   "source": []
  },
  {
   "cell_type": "code",
   "execution_count": null,
   "id": "96b61029-c907-4cbb-854d-b0b953fe911f",
   "metadata": {},
   "outputs": [],
   "source": []
  },
  {
   "cell_type": "code",
   "execution_count": null,
   "id": "72045530-7209-47a9-a745-4ca6992cff82",
   "metadata": {},
   "outputs": [],
   "source": []
  },
  {
   "cell_type": "code",
   "execution_count": null,
   "id": "c45f5e66-da6a-4bc2-ae49-cfce7a942947",
   "metadata": {},
   "outputs": [],
   "source": []
  },
  {
   "cell_type": "code",
   "execution_count": null,
   "id": "2dd88381-da7e-461c-9e2b-515a2f2a649f",
   "metadata": {},
   "outputs": [],
   "source": []
  },
  {
   "cell_type": "code",
   "execution_count": null,
   "id": "1f849ace-6d28-4000-86fe-8ae515806ef7",
   "metadata": {},
   "outputs": [],
   "source": []
  },
  {
   "cell_type": "code",
   "execution_count": null,
   "id": "21c55c4c-d259-42ed-8e63-0eeb4b5fd087",
   "metadata": {},
   "outputs": [],
   "source": []
  },
  {
   "cell_type": "code",
   "execution_count": null,
   "id": "8fb369c2-ab44-4c14-a719-00c199c2d6b5",
   "metadata": {},
   "outputs": [],
   "source": []
  },
  {
   "cell_type": "code",
   "execution_count": null,
   "id": "8607183c-a29b-427e-b518-ab7ba2f1e3e5",
   "metadata": {},
   "outputs": [],
   "source": []
  },
  {
   "cell_type": "code",
   "execution_count": null,
   "id": "2777b73e-c6e9-478b-92ac-bbf986b37dd8",
   "metadata": {},
   "outputs": [],
   "source": []
  },
  {
   "cell_type": "code",
   "execution_count": null,
   "id": "ad387af3-2f37-4222-a380-b3221d897154",
   "metadata": {},
   "outputs": [],
   "source": []
  },
  {
   "cell_type": "code",
   "execution_count": null,
   "id": "02ff5503-5d96-46d4-a95b-2c4f90f5e024",
   "metadata": {},
   "outputs": [],
   "source": []
  }
 ],
 "metadata": {
  "kernelspec": {
   "display_name": "Python 3 (ipykernel)",
   "language": "python",
   "name": "python3"
  },
  "language_info": {
   "codemirror_mode": {
    "name": "ipython",
    "version": 3
   },
   "file_extension": ".py",
   "mimetype": "text/x-python",
   "name": "python",
   "nbconvert_exporter": "python",
   "pygments_lexer": "ipython3",
   "version": "3.12.4"
  }
 },
 "nbformat": 4,
 "nbformat_minor": 5
}
